{
 "cells": [
  {
   "cell_type": "markdown",
   "metadata": {},
   "source": [
    "# Programming Project 3\n",
    "Brian Johnston  \n",
    "v1.0  \n",
    "FA2020 - CS-150-01"
   ]
  },
  {
   "cell_type": "code",
   "execution_count": 83,
   "metadata": {},
   "outputs": [
    {
     "data": {
      "text/plain": [
       "'English_United States.1252'"
      ]
     },
     "execution_count": 83,
     "metadata": {},
     "output_type": "execute_result"
    }
   ],
   "source": [
    "import numpy as np\n",
    "import prettytable as pt\n",
    "import csv\n",
    "import locale as lc\n",
    "lc.setlocale(lc.LC_ALL, '')"
   ]
  },
  {
   "cell_type": "code",
   "execution_count": 14,
   "metadata": {},
   "outputs": [],
   "source": [
    "def getData(file):\n",
    "    \"\"\"This function takes in the name of a csv file and returns the data from it as a list of lists, where each new list represents one row from the file\"\"\"\n",
    "    with open(file, 'r') as datacsv:\n",
    "        dataReader = csv.reader(datacsv)\n",
    "        pop = [list(row) for row in dataReader]\n",
    "        \n",
    "    return pop"
   ]
  },
  {
   "cell_type": "code",
   "execution_count": 49,
   "metadata": {},
   "outputs": [],
   "source": [
    "def numericalData(data):\n",
    "    \"\"\"This function takes the data from the previous function and reduces it to only contain the numerical values.\"\"\"\n",
    "    del data[0]\n",
    "    \n",
    "    for i in range(0,len(data)):\n",
    "        del data[i][0]\n",
    "        del data[i][0]\n",
    "    \n",
    "    data = np.array(data).astype(np.float)\n",
    "    \n",
    "    return data"
   ]
  },
  {
   "cell_type": "code",
   "execution_count": 50,
   "metadata": {},
   "outputs": [],
   "source": [
    "def formatData(data):\n",
    "    \"\"\"Takes data imported from getData and arranges it in a pretty table, aligning all columns except 'Code' to the right\"\"\"\n",
    "    x = pt.PrettyTable()\n",
    "    x.field_names = data[0]\n",
    "    for i in range(1,len(data)):\n",
    "        x.add_row(data[i])\n",
    "    x.align[data[0][0]] = \"r\"\n",
    "    x.align[data[0][2]] = \"r\"\n",
    "    x.align[data[0][3]] = \"r\"\n",
    "    x.align[data[0][4]] = \"r\"\n",
    "    x.align[data[0][5]] = \"r\"\n",
    "    x.align[data[0][6]] = \"r\"\n",
    "    \n",
    "    return x"
   ]
  },
  {
   "cell_type": "code",
   "execution_count": 112,
   "metadata": {},
   "outputs": [],
   "source": [
    "def decFormat(data):\n",
    "    \"\"\"used as a map function, formats using locale.format_string to add comma separators as well as retain precision of 2 decimal spaces\"\"\"\n",
    "    \n",
    "    return lc.format_string(\"%.2f\",data,grouping=True)"
   ]
  },
  {
   "cell_type": "code",
   "execution_count": 113,
   "metadata": {},
   "outputs": [],
   "source": [
    "def statsData(array):\n",
    "    \"\"\"Uses numpy functions to get statistics for the columns of the array created in numericalData, formats them correctly with the map function, and then adds row 'headers' to then place into a prettytable\"\"\"\n",
    "    \n",
    "    means = list(np.mean(a=array, axis = 0))\n",
    "    maxs = list(np.max(a=array, axis = 0))\n",
    "    mins = list(np.min(a=array, axis = 0))\n",
    "    \n",
    "    means = list(map(decFormat, means))\n",
    "    maxs = list(map(decFormat, maxs))\n",
    "    mins = list(map(decFormat, mins))\n",
    "    \n",
    "    means.insert(0,\"MEAN\")\n",
    "    maxs.insert(0,\"MAX\")\n",
    "    mins.insert(0,\"MIN\")\n",
    "    \n",
    "    x = pt.PrettyTable()\n",
    "    x.field_names = [\"Summary Measure\",\"2015\",\"2016\",\"2017\",\"2018\",\"2019\"]\n",
    "    \n",
    "    x.add_row(means)\n",
    "    x.add_row(maxs)\n",
    "    x.add_row(mins)\n",
    "    \n",
    "    x.align = \"r\"\n",
    "    \n",
    "    return x"
   ]
  },
  {
   "cell_type": "code",
   "execution_count": 114,
   "metadata": {},
   "outputs": [
    {
     "name": "stdout",
     "output_type": "stream",
     "text": [
      "+--------------------------+------+-----------+-----------+-----------+-----------+-----------+\n",
      "|                  Country | Code |      2015 |      2016 |      2017 |      2018 |      2019 |\n",
      "+--------------------------+------+-----------+-----------+-----------+-----------+-----------+\n",
      "|                  Algeria | DZA  |  39728025 |  40551404 |  41389198 |  42228429 |  43053054 |\n",
      "|                   Angola | AGO  |  27884381 |  28842484 |  29816748 |  30809762 |  31825295 |\n",
      "|                    Benin | BEN  |  10575952 |  10872067 |  11175204 |  11485048 |  11801151 |\n",
      "|                 Botswana | BWA  |   2120716 |   2159944 |   2205128 |   2254126 |   2303697 |\n",
      "|             Burkina Faso | BFA  |  18110624 |  18646378 |  19193284 |  19751535 |  20321378 |\n",
      "|               Cabo Verde | CPV  |    524743 |    531146 |    537497 |    543767 |    549935 |\n",
      "|                 Cameroon | CMR  |  23298368 |  23926539 |  24566045 |  25216237 |  25876380 |\n",
      "| Central African Republic | CAF  |   4493170 |   4537687 |   4596028 |   4666377 |   4745185 |\n",
      "|                     Chad | TCD  |  14110975 |  14561666 |  15016773 |  15477751 |  15946876 |\n",
      "|                  Comoros | COM  |    777424 |    795592 |    813892 |    832322 |    850886 |\n",
      "|         Congo, Dem. Rep. | COD  |  76244544 |  78789127 |  81398764 |  84068091 |  86790567 |\n",
      "|              Congo, Rep. | COG  |   4856095 |   4980999 |   5110702 |   5244363 |   5380508 |\n",
      "|            Cote d'Ivoire | CIV  |  23226143 |  23822714 |  24437469 |  25069229 |  25716544 |\n",
      "|                 Djibouti | DJI  |    913993 |    929112 |    944097 |    958920 |    973560 |\n",
      "|         Egypt, Arab Rep. | EGY  |  92442547 |  94447072 |  96442593 |  98423595 | 100388073 |\n",
      "|        Equatorial Guinea | GNQ  |   1168568 |   1215179 |   1262001 |   1308974 |   1355986 |\n",
      "|                 Eswatini | SWZ  |   1104044 |   1113984 |   1124753 |   1136191 |   1148130 |\n",
      "|                 Ethiopia | ETH  | 100835458 | 103603501 | 106400024 | 109224559 | 112078730 |\n",
      "|                    Gabon | GAB  |   1947686 |   2007873 |   2064823 |   2119275 |   2172579 |\n",
      "|                   Gambia | GMB  |   2085860 |   2149139 |   2213894 |   2280102 |   2347706 |\n",
      "|                    Ghana | GHA  |  27849205 |  28481946 |  29121471 |  29767108 |  30417856 |\n",
      "|                   Guinea | GIN  |  11432088 |  11738441 |  12067539 |  12414318 |  12771246 |\n",
      "|            Guinea-Bissau | GNB  |   1737202 |   1782437 |   1828146 |   1874309 |   1920922 |\n",
      "|                    Kenya | KEN  |  47878336 |  49051686 |  50221473 |  51393010 |  52573973 |\n",
      "|                  Lesotho | LSO  |   2059021 |   2075001 |   2091412 |   2108132 |   2125268 |\n",
      "|                  Liberia | LBR  |   4472230 |   4586788 |   4702228 |   4818977 |   4937374 |\n",
      "|                    Libya | LBY  |   6418315 |   6492164 |   6580724 |   6678567 |   6777452 |\n",
      "|                   Malawi | MWI  |  16745303 |  17205289 |  17670260 |  18143315 |  18628747 |\n",
      "|                     Mali | MLI  |  17438778 |  17965429 |  18512394 |  19077690 |  19658031 |\n",
      "|               Mauritania | MRT  |   4046301 |   4163534 |   4282574 |   4403319 |   4525696 |\n",
      "|                Mauritius | MUS  |   1262605 |   1263473 |   1264613 |   1265303 |   1265711 |\n",
      "|                  Morocco | MAR  |  34663603 |  35126296 |  35581294 |  36029138 |  36471769 |\n",
      "|               Mozambique | MOZ  |  27042002 |  27829942 |  28649007 |  29495962 |  30366036 |\n",
      "|                  Namibia | NAM  |   2314904 |   2358041 |   2402603 |   2448255 |   2494530 |\n",
      "|                    Niger | NER  |  20001663 |  20788838 |  21602472 |  22442948 |  23310715 |\n",
      "|                  Nigeria | NGA  | 181137448 | 185960289 | 190873311 | 195874740 | 200963599 |\n",
      "|                   Rwanda | RWA  |  11369071 |  11668818 |  11980937 |  12301939 |  12626950 |\n",
      "|    Sao Tome and Principe | STP  |    199432 |    203227 |    207089 |    211028 |    215056 |\n",
      "|                  Senegal | SEN  |  14578459 |  14993528 |  15419381 |  15854360 |  16296364 |\n",
      "|               Seychelles | SYC  |     93419 |     94677 |     95843 |     96762 |     97625 |\n",
      "|             Sierra Leone | SLE  |   7171914 |   7328838 |   7488431 |   7650154 |   7813215 |\n",
      "|                  Somalia | SOM  |  13797201 |  14185613 |  14589119 |  15008154 |  15442905 |\n",
      "|             South Africa | ZAF  |  55386367 |  56203654 |  57000451 |  57779622 |  58558270 |\n",
      "|              South Sudan | SSD  |  10715658 |  10832512 |  10910759 |  10975920 |  11062113 |\n",
      "|                    Sudan | SDN  |  38902950 |  39847440 |  40813396 |  41801533 |  42813238 |\n",
      "|                 Tanzania | TZA  |  51482633 |  53050790 |  54663906 |  56318348 |  58005463 |\n",
      "|                     Togo | TGO  |   7323158 |   7509952 |   7698475 |   7889094 |   8082366 |\n",
      "|                  Tunisia | TUN  |  11179949 |  11303946 |  11433443 |  11565204 |  11694719 |\n",
      "|                   Uganda | UGA  |  38225453 |  39647506 |  41162465 |  42723139 |  44269594 |\n",
      "|              Yemen, Rep. | YEM  |  26497889 |  27168210 |  27834821 |  28498687 |  29161922 |\n",
      "|                   Zambia | ZMB  |  15879361 |  16363507 |  16853688 |  17351822 |  17861030 |\n",
      "|                 Zimbabwe | ZWE  |  13814629 |  14030390 |  14236745 |  14439018 |  14645468 |\n",
      "+--------------------------+------+-----------+-----------+-----------+-----------+-----------+\n"
     ]
    }
   ],
   "source": [
    "print(formatData(getData('africa_pop_data.csv')))"
   ]
  },
  {
   "cell_type": "code",
   "execution_count": 115,
   "metadata": {},
   "outputs": [
    {
     "name": "stdout",
     "output_type": "stream",
     "text": [
      "+-----------------+----------------+----------------+----------------+----------------+----------------+\n",
      "| Summary Measure |           2015 |           2016 |           2017 |           2018 |           2019 |\n",
      "+-----------------+----------------+----------------+----------------+----------------+----------------+\n",
      "|            MEAN |  22,491,651.21 |  23,072,804.02 |  23,664,411.29 |  24,265,356.31 |  24,874,643.13 |\n",
      "|             MAX | 181,137,448.00 | 185,960,289.00 | 190,873,311.00 | 195,874,740.00 | 200,963,599.00 |\n",
      "|             MIN |      93,419.00 |      94,677.00 |      95,843.00 |      96,762.00 |      97,625.00 |\n",
      "+-----------------+----------------+----------------+----------------+----------------+----------------+\n"
     ]
    }
   ],
   "source": [
    "print(statsData(numericalData(getData('africa_pop_data.csv'))))"
   ]
  },
  {
   "cell_type": "code",
   "execution_count": null,
   "metadata": {},
   "outputs": [],
   "source": []
  }
 ],
 "metadata": {
  "kernelspec": {
   "display_name": "Python 3",
   "language": "python",
   "name": "python3"
  },
  "language_info": {
   "codemirror_mode": {
    "name": "ipython",
    "version": 3
   },
   "file_extension": ".py",
   "mimetype": "text/x-python",
   "name": "python",
   "nbconvert_exporter": "python",
   "pygments_lexer": "ipython3",
   "version": "3.8.3"
  }
 },
 "nbformat": 4,
 "nbformat_minor": 4
}
